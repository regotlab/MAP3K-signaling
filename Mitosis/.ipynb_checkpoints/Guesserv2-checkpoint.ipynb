{
 "cells": [
  {
   "cell_type": "code",
   "execution_count": 3,
   "metadata": {},
   "outputs": [],
   "source": [
    "import tensorflow as tf\n",
    "from tensorflow import convert_to_tensor as ctv\n",
    "import numpy as np\n",
    "import pandas as pd\n",
    "from pathlib import Path\n",
    "from scipy import signal as sg\n",
    "\n",
    "gpu_options = tf.compat.v1.GPUOptions(visible_device_list=\"0\")\n",
    "sess = tf.compat.v1.Session(config=tf.compat.v1.ConfigProto(gpu_options=gpu_options))\n",
    "\n",
    "from datetime import datetime\n",
    "\n",
    "#sess=tf.compat.v1.Session()\n"
   ]
  },
  {
   "cell_type": "code",
   "execution_count": 3,
   "metadata": {},
   "outputs": [
    {
     "name": "stdout",
     "output_type": "stream",
     "text": [
      "25\n"
     ]
    },
    {
     "name": "stderr",
     "output_type": "stream",
     "text": [
      "/home/regotlab/UNET1/lib/python3.6/site-packages/ipykernel_launcher.py:27: ParserWarning: Falling back to the 'python' engine because the 'c' engine does not support regex separators (separators > 1 char and different from '\\s+' are interpreted as regex); you can avoid this warning by specifying engine='python'.\n"
     ]
    },
    {
     "name": "stdout",
     "output_type": "stream",
     "text": [
      "ssimtime\n",
      "2021-01-27 21:50:31.899537\n",
      "26\n",
      "ssimtime\n",
      "2021-01-27 21:53:26.109160\n",
      "27\n",
      "ssimtime\n",
      "2021-01-27 21:57:55.465167\n",
      "28\n",
      "ssimtime\n",
      "2021-01-27 22:00:11.425550\n",
      "29\n",
      "ssimtime\n",
      "2021-01-27 22:06:54.847632\n",
      "30\n",
      "ssimtime\n",
      "2021-01-27 22:10:26.989702\n",
      "31\n",
      "ssimtime\n",
      "2021-01-27 22:17:12.252793\n",
      "32\n",
      "ssimtime\n",
      "2021-01-27 22:26:23.007581\n"
     ]
    }
   ],
   "source": [
    "for i in range(1,91):\n",
    "    print(i)\n",
    "\n",
    "    ssimBig = np.array((0.1,0.1,0.1,0.1))\n",
    "    ssimBig = np.reshape((ssimBig),(1,4,1,1))\n",
    "    numPer = {}\n",
    "    reference_ssim = [0.29, 4.5, 0.05, 15.5]\n",
    "    reference_ssim = np.reshape(reference_ssim,(1,4,1,1))\n",
    "    candDict3 = {}\n",
    "    candDict4 = {}\n",
    "    candBig = {}\n",
    "    \n",
    "    fnameover = Path(r'C:\\Users\\RegotLab\\VirtualBox VMs\\LocalAnalysisC\\Connor\\201205_Contact_inhibition\\Output\\\\')\n",
    "    fname2 = 'Pos' + str(i) + 'Registration/MitosisClassifier.ts'\n",
    "    fname1 = str(fnameover / fname2)\n",
    "    fname3 = 'Pos' + str(i) + 'Registration/MitosisClassified.csv'\n",
    "    fname4 = str(fnameover / fname3)\n",
    "    data2 = pd.read_csv(fname4,header=None)\n",
    "    \n",
    "    data2 = data2.to_numpy()\n",
    "\n",
    "    for z in range(0,len(data2)):\n",
    "\n",
    "        if data2[z] == 1:\n",
    "            #print('here')\n",
    "\n",
    "            data1 = pd.read_csv(fname1,skiprows=6,sep='[:,]',header=None)\n",
    "\n",
    "            MainArrayPre = data1.iloc[[z]].to_numpy()\n",
    "            MainArray = MainArrayPre[0]\n",
    "            aarr = MainArray[0:311]\n",
    "            #area input signal\n",
    "            iarr = MainArray[312:623] #intensity input signal\n",
    "            divarr = MainArray[624:935]\n",
    "            t = sg.argrelmin(aarr)\n",
    "            barr = t[0]\n",
    "            aarr2 = aarr\n",
    "            aarr2[aarr2 == 0] = np.nan\n",
    "            meanArea = np.nanmean(aarr2)\n",
    "            iarr2 = iarr\n",
    "            iarr2[iarr2 == 0] = np.nan\n",
    "            meanInt = np.nanmean(iarr2)\n",
    "            numMin = len(barr)\n",
    "            cans = []\n",
    "            for j in range(numMin):\n",
    "                valArea = aarr[barr[j]]\n",
    "                valInt = iarr[barr[j]]\n",
    "                arRatio1 = valArea/meanArea\n",
    "                if arRatio1 < 0.7:\n",
    "                    cans.append(barr[j])\n",
    "            numS = len(cans)\n",
    "            ssim1 = np.zeros((numS,4,1,1))\n",
    "            for k in range(numS):\n",
    "                ind1 = cans[k]\n",
    "                arRatio = aarr[ind1]/meanArea\n",
    "                intRatio = iarr[ind1]/meanInt\n",
    "                p3 = arRatio/intRatio\n",
    "                p4 = divarr[ind1]\n",
    "                ssim1[k,:,:,:] = np.reshape([arRatio, intRatio, p3, p4],(4,1,1))\n",
    "            #print(ssim1.shape)\n",
    "            #print(reference_ssim.shape)\n",
    "            ssimBig = np.concatenate((ssimBig,ssim1),0)\n",
    "            numPer[z] = numS\n",
    "            candBig[z] = cans\n",
    "            \n",
    "            \n",
    "            \n",
    "    ssimBig = ssimBig[1:,:,:,:]\n",
    "    print('ssimtime')\n",
    "    print(datetime.now())\n",
    "    ssimt = tf.image.ssim(ctv(ssimBig),ctv(reference_ssim),3,filter_size=1)\n",
    "    ssimOut = ssimt.eval(session=sess)\n",
    "    \n",
    "    rxs = list(numPer.items())\n",
    "    ind1 = 0\n",
    "    \n",
    "    for sN in range(0,len(rxs)):\n",
    "        numEach = rxs[sN][1]\n",
    "        ssO = ssimOut[ind1:numEach+ind1]\n",
    "        \n",
    "        tr_1 = rxs[sN][0]\n",
    "        ind1 = ind1+numEach\n",
    "        if len(ssO):\n",
    "            guess = np.argmax(ssO)\n",
    "            guessFr = candBig[tr_1][guess]\n",
    "            candBig[tr_1] = cans\n",
    "            candDict3[tr_1] = guessFr\n",
    "            candDict4[tr_1] = ssO[guess]\n",
    "        \n",
    "            \n",
    "    #print(ssO)\n",
    "        \n",
    "    probableTraces = []\n",
    "    probableFrames = []\n",
    "    probableValues = []\n",
    "    pvals = list(candDict4.items())\n",
    "    pframes = list(candDict3.items())\n",
    "    for tv in range(0,len(candDict4)):\n",
    "        if pvals[tv][1] > 0.7:\n",
    "            probableTraces.append(pvals[tv][0])\n",
    "            probableFrames.append(pframes[tv][1])\n",
    "            probableValues.append(pvals[tv][1])\n",
    "    fname9 = 'Pos' + str(i) + 'Registration/GuessedFrames.csv'\n",
    "    fnamex = str(fnameover / fname9)\n",
    "    #fnamex = '/home/regotlab/Documents/temp3.csv'\n",
    "    file1 = open(fnamex,\"w+\")\n",
    "    for tt in range(0,len(probableTraces)):\n",
    "        str1 = str(probableTraces[tt]) + ',' + str(probableFrames[tt]) + '\\n'\n",
    "        file1.write(str1)\n",
    "    file1.close()"
   ]
  },
  {
   "cell_type": "code",
   "execution_count": 6,
   "metadata": {},
   "outputs": [
    {
     "data": {
      "text/plain": [
       "17"
      ]
     },
     "execution_count": 6,
     "metadata": {},
     "output_type": "execute_result"
    }
   ],
   "source": [
    "len(rxs)"
   ]
  },
  {
   "cell_type": "code",
   "execution_count": null,
   "metadata": {},
   "outputs": [],
   "source": []
  }
 ],
 "metadata": {
  "kernelspec": {
   "display_name": "Python 3",
   "language": "python",
   "name": "python3"
  },
  "language_info": {
   "codemirror_mode": {
    "name": "ipython",
    "version": 3
   },
   "file_extension": ".py",
   "mimetype": "text/x-python",
   "name": "python",
   "nbconvert_exporter": "python",
   "pygments_lexer": "ipython3",
   "version": "3.8.6"
  }
 },
 "nbformat": 4,
 "nbformat_minor": 4
}
