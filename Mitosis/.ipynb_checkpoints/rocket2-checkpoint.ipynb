{
 "cells": [
  {
   "cell_type": "markdown",
   "metadata": {},
   "source": [
    "# Demo of ROCKET transform\n",
    "\n",
    "## Overview\n",
    "\n",
    "ROCKET [1] transforms time series using random convolutional kernels (random length, weights, bias, dilation, and padding). ROCKET computes two features from the resulting feature maps: the max, and the proportion of positive values (or ppv). The transformed features are used to train a linear classifier.\n",
    "\n",
    "[1] Dempster A, Petitjean F, Webb GI (2019) ROCKET: Exceptionally fast and accurate time series classification using random convolutional kernels. [arXiv:1910.13051](https://arxiv.org/abs/1910.13051)\n",
    "\n",
    "***\n",
    "\n",
    "## Contents\n",
    "\n",
    "1. Imports\n",
    "2. Univariate Time Series\n",
    "3. Multivariate Time Series\n",
    "4. Pipeline Example\n",
    "\n",
    "***\n",
    "\n",
    "## 1 Imports\n",
    "\n",
    "Import example data, ROCKET, and a classifier (`RidgeClassifierCV` from scikit-learn), as well as NumPy and `make_pipeline` from scikit-learn.\n",
    "\n",
    "**Note**: ROCKET compiles (via Numba) on import, which may take a few seconds."
   ]
  },
  {
   "cell_type": "code",
   "execution_count": 1,
   "metadata": {
    "execution": {
     "iopub.execute_input": "2020-10-26T13:43:40.895607Z",
     "iopub.status.busy": "2020-10-26T13:43:40.894877Z",
     "iopub.status.idle": "2020-10-26T13:43:40.897049Z",
     "shell.execute_reply": "2020-10-26T13:43:40.897867Z"
    }
   },
   "outputs": [
    {
     "name": "stdout",
     "output_type": "stream",
     "text": [
      "Defaulting to user installation because normal site-packages is not writeable\n",
      "Requirement already satisfied: numba in c:\\users\\regotlab\\appdata\\roaming\\python\\python38\\site-packages (0.52.0)\n",
      "Requirement already satisfied: llvmlite<0.36,>=0.35.0 in c:\\users\\regotlab\\appdata\\roaming\\python\\python38\\site-packages (from numba) (0.35.0)\n",
      "Requirement already satisfied: numpy>=1.15 in c:\\users\\regotlab\\appdata\\roaming\\python\\python38\\site-packages (from numba) (1.18.5)\n",
      "Requirement already satisfied: setuptools in c:\\program files\\python38\\lib\\site-packages (from numba) (49.2.1)\n"
     ]
    }
   ],
   "source": [
    "!pip install numba\n",
    "#!pip install --upgrade scikit-learn"
   ]
  },
  {
   "cell_type": "code",
   "execution_count": 2,
   "metadata": {
    "execution": {
     "iopub.execute_input": "2020-10-26T13:43:40.902829Z",
     "iopub.status.busy": "2020-10-26T13:43:40.902132Z",
     "iopub.status.idle": "2020-10-26T13:43:46.084612Z",
     "shell.execute_reply": "2020-10-26T13:43:46.085100Z"
    }
   },
   "outputs": [],
   "source": [
    "import numpy as np\n",
    "import sklearn\n",
    "from sklearn.linear_model import RidgeClassifierCV\n",
    "from sklearn.pipeline import make_pipeline\n",
    "\n",
    "from sktime.datasets import load_arrow_head  # univariate dataset\n",
    "from sktime.datasets.base import load_japanese_vowels  # multivariate dataset\n",
    "from sktime.transformers.series_as_features.rocket import Rocket\n",
    "from sktime.datasets.base import _load_dataset\n",
    "from sktime.utils.load_data import load_from_tsfile_to_dataframe\n",
    "import os"
   ]
  },
  {
   "cell_type": "markdown",
   "metadata": {},
   "source": [
    "## 2 Univariate Time Series\n",
    "\n",
    "We can transform the data using ROCKET and separately fit a classifier, or we can use ROCKET together with a classifier in a pipeline (section 4, below).\n",
    "\n",
    "### 2.1 Load the Training Data\n",
    "For more details on the data set, see the [univariate time series classification notebook](https://github.com/alan-turing-institute/sktime/blob/master/examples/02_classification_univariate.ipynb)."
   ]
  },
  {
   "cell_type": "code",
   "execution_count": 3,
   "metadata": {
    "execution": {
     "iopub.execute_input": "2020-10-26T13:43:46.088516Z",
     "iopub.status.busy": "2020-10-26T13:43:46.088038Z",
     "iopub.status.idle": "2020-10-26T13:43:46.097792Z",
     "shell.execute_reply": "2020-10-26T13:43:46.098291Z"
    }
   },
   "outputs": [
    {
     "name": "stdout",
     "output_type": "stream",
     "text": [
      "True\n"
     ]
    }
   ],
   "source": [
    "DATA_PATH = os.path.join(os.path.dirname(\"/home/regotlab/Documents/TSC/\"))\n",
    "\n",
    "print(os.path.isfile(\"/home/regotlab/Documents/TSC/Level2.ts\"))\n",
    "\n",
    "X_train, y_train = load_from_tsfile_to_dataframe(\n",
    "    os.path.join(DATA_PATH, \"Level2.ts\")\n",
    ")\n",
    "\n"
   ]
  },
  {
   "cell_type": "markdown",
   "metadata": {},
   "source": [
    "### 2.2 Initialise ROCKET and Transform the Training Data"
   ]
  },
  {
   "cell_type": "code",
   "execution_count": 4,
   "metadata": {
    "execution": {
     "iopub.execute_input": "2020-10-26T13:43:46.101966Z",
     "iopub.status.busy": "2020-10-26T13:43:46.101477Z",
     "iopub.status.idle": "2020-10-26T13:43:46.312016Z",
     "shell.execute_reply": "2020-10-26T13:43:46.312549Z"
    }
   },
   "outputs": [],
   "source": [
    "rocket = Rocket(num_kernels=10000)  # by default, ROCKET uses 10,000 kernels\n",
    "rocket.fit(X_train)\n",
    "X_train_transform = rocket.transform(X_train)"
   ]
  },
  {
   "cell_type": "markdown",
   "metadata": {},
   "source": [
    "### 2.3 Fit a Classifier"
   ]
  },
  {
   "cell_type": "markdown",
   "metadata": {},
   "source": [
    "We recommend using `RidgeClassifierCV` from scikit-learn for smaller datasets (fewer than approx. 20K training examples), and using logistic regression trained using stochastic gradient descent for larger datasets."
   ]
  },
  {
   "cell_type": "code",
   "execution_count": 5,
   "metadata": {
    "execution": {
     "iopub.execute_input": "2020-10-26T13:43:46.397587Z",
     "iopub.status.busy": "2020-10-26T13:43:46.349309Z",
     "iopub.status.idle": "2020-10-26T13:43:46.424781Z",
     "shell.execute_reply": "2020-10-26T13:43:46.425474Z"
    }
   },
   "outputs": [
    {
     "data": {
      "text/plain": [
       "RidgeClassifierCV(alphas=array([1.00000000e-03, 4.64158883e-03, 2.15443469e-02, 1.00000000e-01,\n",
       "       4.64158883e-01, 2.15443469e+00, 1.00000000e+01, 4.64158883e+01,\n",
       "       2.15443469e+02, 1.00000000e+03]))"
      ]
     },
     "execution_count": 5,
     "metadata": {},
     "output_type": "execute_result"
    }
   ],
   "source": [
    "classifier = RidgeClassifierCV(alphas=np.logspace(-3, 3, 10), normalize=False)\n",
    "classifier.fit(X_train_transform, y_train)"
   ]
  },
  {
   "cell_type": "markdown",
   "metadata": {},
   "source": [
    "### 2.4 Load and Transform the Test Data"
   ]
  },
  {
   "cell_type": "code",
   "execution_count": 6,
   "metadata": {
    "execution": {
     "iopub.execute_input": "2020-10-26T13:43:46.429621Z",
     "iopub.status.busy": "2020-10-26T13:43:46.428875Z",
     "iopub.status.idle": "2020-10-26T13:43:47.321078Z",
     "shell.execute_reply": "2020-10-26T13:43:47.321606Z"
    }
   },
   "outputs": [],
   "source": [
    "X_test, y_test = load_from_tsfile_to_dataframe(\n",
    "    os.path.join(DATA_PATH, \"Level2.ts\")\n",
    ")\n",
    "X_test_transform = rocket.transform(X_test)"
   ]
  },
  {
   "cell_type": "markdown",
   "metadata": {},
   "source": [
    "### 2.5 Classify the Test Data"
   ]
  },
  {
   "cell_type": "code",
   "execution_count": 10,
   "metadata": {
    "execution": {
     "iopub.execute_input": "2020-10-26T13:43:47.324938Z",
     "iopub.status.busy": "2020-10-26T13:43:47.324456Z",
     "iopub.status.idle": "2020-10-26T13:43:47.417181Z",
     "shell.execute_reply": "2020-10-26T13:43:47.417740Z"
    },
    "scrolled": true
   },
   "outputs": [
    {
     "name": "stdout",
     "output_type": "stream",
     "text": [
      "['0' '1' '1' ... '0' '0' '0']\n",
      "0.9477611940298507\n",
      "Matches,total num matching\n",
      "[ True  True  True ...  True  True  True]\n",
      "2540\n",
      "Ground truth ['1', '0', '1', '1', '1', '1', '1', '1', '1', '0', '1', '1', '1', '1', '1', '1', '1', '0', '1', '1', '1', '1', '0', '1', '1', '0', '1', '1', '0', '0', '0', '0', '0', '0', '1', '1', '1', '1', '1', '1', '1', '0', '1', '1', '1', '1', '1', '1', '0', '0', '0', '1', '0', '1', '0', '1', '1', '1', '1', '1', '1', '1', '1', '1', '1', '1', '1', '0', '1', '1', '0', '1', '1', '1', '1', '0', '1', '1', '1', '1', '1', '1', '0', '1', '0', '1', '1', '1', '1', '1', '1', '0', '1', '1', '1', '1', '1', '0', '1', '0', '1', '0', '1', '0', '1', '0', '1', '1', '1', '1', '1', '1', '1', '1', '1', '1', '1', '1', '1', '1', '1', '1', '1', '1', '1', '1', '1', '1', '1', '1', '1', '1', '1', '0', '1', '1', '1', '1', '1', '1']\n",
      "My result ['0', '1', '0', '0', '0', '0', '0', '0', '0', '1', '0', '0', '0', '0', '0', '0', '0', '1', '0', '0', '0', '0', '1', '0', '0', '1', '0', '0', '1', '1', '1', '1', '1', '1', '0', '0', '0', '0', '0', '0', '0', '1', '0', '0', '0', '0', '0', '0', '1', '1', '1', '0', '1', '0', '1', '0', '0', '0', '0', '0', '0', '0', '0', '0', '0', '0', '0', '1', '0', '0', '1', '0', '0', '0', '0', '1', '0', '0', '0', '0', '0', '0', '1', '0', '1', '0', '0', '0', '0', '0', '0', '1', '0', '0', '0', '0', '0', '1', '0', '1', '0', '1', '0', '1', '0', '1', '0', '0', '0', '0', '0', '0', '0', '0', '0', '0', '0', '0', '0', '0', '0', '0', '0', '0', '0', '0', '0', '0', '0', '0', '0', '0', '0', '1', '0', '0', '0', '0', '0', '0']\n",
      "track IDs [24, 80, 84, 106, 144, 164, 165, 185, 186, 280, 281, 282, 341, 342, 362, 364, 405, 420, 463, 484, 485, 486, 580, 584, 621, 640, 643, 662, 672, 691, 692, 693, 694, 695, 703, 705, 706, 746, 766, 785, 786, 791, 826, 842, 843, 844, 845, 922, 1071, 1200, 1252, 1306, 1311, 1341, 1390, 1401, 1422, 1426, 1445, 1446, 1463, 1464, 1465, 1466, 1481, 1482, 1483, 1514, 1541, 1542, 1553, 1564, 1565, 1566, 1626, 1640, 1643, 1722, 1723, 1724, 1725, 1726, 1780, 1785, 1828, 1844, 1845, 1846, 1863, 1882, 1883, 1912, 1963, 1964, 1965, 1966, 1982, 1988, 2026, 2040, 2066, 2167, 2221, 2260, 2264, 2307, 2342, 2343, 2344, 2422, 2423, 2561, 2562, 2581, 2582, 2583, 2601, 2602, 2603, 2604, 2605, 2621, 2622, 2623, 2624, 2625, 2626, 2641, 2642, 2643, 2644, 2645, 2646, 2648, 2661, 2662, 2663, 2664, 2665, 2666]\n",
      "804\n",
      "140\n",
      "111\n"
     ]
    }
   ],
   "source": [
    "score1 = classifier.score(X_test_transform, y_test)\n",
    "peachy = classifier.predict(X_test_transform)\n",
    "print(peachy)\n",
    "score2 = peachy==y_test\n",
    "print(score1)\n",
    "print('Matches,total num matching')\n",
    "print(score2)\n",
    "print(sum(score2))\n",
    "\n",
    "br = []\n",
    "bx = []\n",
    "bt = 0 \n",
    "fr = []\n",
    "for i in range(2680):\n",
    "    if score2[i] == False:\n",
    "        br.append(y_test[i])\n",
    "        bx.append(peachy[i])\n",
    "        fr.append(i)\n",
    "        bt = bt + y_test.astype(int)[i]\n",
    "print('Ground truth',br)\n",
    "print('My result',bx)\n",
    "print('track IDs',fr)\n",
    "q = y_test.astype(int)\n",
    "print(sum(q))\n",
    "print(len(br))\n",
    "print(bt)"
   ]
  },
  {
   "cell_type": "code",
   "execution_count": 7,
   "metadata": {},
   "outputs": [
    {
     "name": "stdout",
     "output_type": "stream",
     "text": [
      "/run/user/1000/gvfs/smb-share:server=10.16.78.142,share=labshare/ServerImageAnalysis/Jose/20_12_21_Starved_PGC1/Output/Pos26Registration/\n",
      "3854\n",
      "/run/user/1000/gvfs/smb-share:server=10.16.78.142,share=labshare/ServerImageAnalysis/Jose/20_12_21_Starved_PGC1/Output/Pos27Registration/\n",
      "4085\n",
      "/run/user/1000/gvfs/smb-share:server=10.16.78.142,share=labshare/ServerImageAnalysis/Jose/20_12_21_Starved_PGC1/Output/Pos28Registration/\n",
      "2731\n",
      "/run/user/1000/gvfs/smb-share:server=10.16.78.142,share=labshare/ServerImageAnalysis/Jose/20_12_21_Starved_PGC1/Output/Pos29Registration/\n",
      "6603\n",
      "/run/user/1000/gvfs/smb-share:server=10.16.78.142,share=labshare/ServerImageAnalysis/Jose/20_12_21_Starved_PGC1/Output/Pos30Registration/\n",
      "5188\n",
      "/run/user/1000/gvfs/smb-share:server=10.16.78.142,share=labshare/ServerImageAnalysis/Jose/20_12_21_Starved_PGC1/Output/Pos31Registration/\n",
      "5960\n",
      "/run/user/1000/gvfs/smb-share:server=10.16.78.142,share=labshare/ServerImageAnalysis/Jose/20_12_21_Starved_PGC1/Output/Pos32Registration/\n",
      "5572\n"
     ]
    }
   ],
   "source": [
    "for i in range(26,33):\n",
    "    st1 = \"/run/user/1000/gvfs/smb-share:server=10.16.78.142,share=labshare/ServerImageAnalysis/Jose/20_12_21_Starved_PGC1/Output/Pos\"\n",
    "    st2 = st1 + str(i) + \"Registration/\"\n",
    "    print(st2)\n",
    "    DATA_PATH2 = os.path.join(os.path.dirname(st2))\n",
    "    X_test, y_test = load_from_tsfile_to_dataframe(\n",
    "        os.path.join(DATA_PATH2, \"LowerChunks.ts\")\n",
    "    )\n",
    "    X_test_transform = rocket.transform(X_test)\n",
    "    peachy = classifier.predict(X_test_transform)\n",
    "    print(sum(peachy.astype(int)))\n",
    "    saverPath = DATA_PATH2 + \"/ChunksClassified.csv\"\n",
    "    np.savetxt(saverPath, peachy.astype('uint8'), delimiter=\",\")"
   ]
  },
  {
   "cell_type": "markdown",
   "metadata": {},
   "source": [
    "***\n",
    "\n",
    "## 3 Multivariate Time Series\n",
    "\n",
    "We can use ROCKET in exactly the same way for multivariate time series.\n",
    "\n",
    "### 3.1 Load the Training Data"
   ]
  },
  {
   "cell_type": "code",
   "execution_count": 21,
   "metadata": {
    "execution": {
     "iopub.execute_input": "2020-10-26T13:43:47.420870Z",
     "iopub.status.busy": "2020-10-26T13:43:47.420224Z",
     "iopub.status.idle": "2020-10-26T13:43:47.781032Z",
     "shell.execute_reply": "2020-10-26T13:43:47.781579Z"
    }
   },
   "outputs": [],
   "source": [
    "#X_train, y_train = load_japanese_vowels(split=\"train\", return_X_y=True)\n",
    "X_train, y_train = load_from_tsfile_to_dataframe(\n",
    "    os.path.join(DATA_PATH, \"MeanDataMulti.ts\"))"
   ]
  },
  {
   "cell_type": "markdown",
   "metadata": {},
   "source": [
    "### 3.2 Initialise ROCKET and Transform the Training Data"
   ]
  },
  {
   "cell_type": "code",
   "execution_count": 22,
   "metadata": {
    "execution": {
     "iopub.execute_input": "2020-10-26T13:43:47.798603Z",
     "iopub.status.busy": "2020-10-26T13:43:47.798104Z",
     "iopub.status.idle": "2020-10-26T13:43:48.573300Z",
     "shell.execute_reply": "2020-10-26T13:43:48.573828Z"
    }
   },
   "outputs": [],
   "source": [
    "rocket = Rocket()\n",
    "rocket.fit(X_train)\n",
    "X_train_transform = rocket.transform(X_train)"
   ]
  },
  {
   "cell_type": "markdown",
   "metadata": {},
   "source": [
    "### 3.3 Fit a Classifier"
   ]
  },
  {
   "cell_type": "code",
   "execution_count": 23,
   "metadata": {
    "execution": {
     "iopub.execute_input": "2020-10-26T13:43:48.658583Z",
     "iopub.status.busy": "2020-10-26T13:43:48.616636Z",
     "iopub.status.idle": "2020-10-26T13:43:48.775210Z",
     "shell.execute_reply": "2020-10-26T13:43:48.775906Z"
    }
   },
   "outputs": [
    {
     "data": {
      "text/plain": [
       "RidgeClassifierCV(alphas=array([1.00000000e-03, 4.64158883e-03, 2.15443469e-02, 1.00000000e-01,\n",
       "       4.64158883e-01, 2.15443469e+00, 1.00000000e+01, 4.64158883e+01,\n",
       "       2.15443469e+02, 1.00000000e+03]),\n",
       "                  normalize=True)"
      ]
     },
     "execution_count": 23,
     "metadata": {},
     "output_type": "execute_result"
    }
   ],
   "source": [
    "classifier = RidgeClassifierCV(alphas=np.logspace(-3, 3, 10), normalize=True)\n",
    "classifier.fit(X_train_transform, y_train)"
   ]
  },
  {
   "cell_type": "markdown",
   "metadata": {},
   "source": [
    "### 3.4 Load and Transform the Test Data"
   ]
  },
  {
   "cell_type": "code",
   "execution_count": 24,
   "metadata": {
    "execution": {
     "iopub.execute_input": "2020-10-26T13:43:48.779695Z",
     "iopub.status.busy": "2020-10-26T13:43:48.779013Z",
     "iopub.status.idle": "2020-10-26T13:43:49.819108Z",
     "shell.execute_reply": "2020-10-26T13:43:49.819624Z"
    }
   },
   "outputs": [],
   "source": [
    "#X_test, y_test = load_japanese_vowels(split=\"test\", return_X_y=True)\n",
    "X_test, y_test = load_from_tsfile_to_dataframe(\n",
    "    os.path.join(DATA_PATH, \"MeanDataMulti.ts\")\n",
    ")\n",
    "X_test_transform = rocket.transform(X_test)"
   ]
  },
  {
   "cell_type": "markdown",
   "metadata": {},
   "source": [
    "### 3.5 Classify the Test Data"
   ]
  },
  {
   "cell_type": "code",
   "execution_count": 25,
   "metadata": {
    "execution": {
     "iopub.execute_input": "2020-10-26T13:43:49.870201Z",
     "iopub.status.busy": "2020-10-26T13:43:49.822353Z",
     "iopub.status.idle": "2020-10-26T13:43:49.913680Z",
     "shell.execute_reply": "2020-10-26T13:43:49.914242Z"
    },
    "scrolled": true
   },
   "outputs": [
    {
     "data": {
      "text/plain": [
       "0.9932236205227493"
      ]
     },
     "execution_count": 25,
     "metadata": {},
     "output_type": "execute_result"
    }
   ],
   "source": [
    "classifier.score(X_test_transform, y_test)"
   ]
  },
  {
   "cell_type": "markdown",
   "metadata": {},
   "source": [
    "***\n",
    "\n",
    "## 4 Pipeline Example\n",
    "\n",
    "We can use ROCKET together with `RidgeClassifierCV` (or another classifier) in a pipeline.  We can then use the pipeline like a self-contained classifier, with a single call to `fit`, and without having to separately transform the data, etc.\n",
    "\n",
    "### 4.1 Initialise the Pipeline"
   ]
  },
  {
   "cell_type": "code",
   "execution_count": null,
   "metadata": {
    "execution": {
     "iopub.execute_input": "2020-10-26T13:43:49.917738Z",
     "iopub.status.busy": "2020-10-26T13:43:49.917215Z",
     "iopub.status.idle": "2020-10-26T13:43:49.919010Z",
     "shell.execute_reply": "2020-10-26T13:43:49.919565Z"
    }
   },
   "outputs": [],
   "source": [
    "rocket_pipeline = make_pipeline(\n",
    "    Rocket(), RidgeClassifierCV(alphas=np.logspace(-3, 3, 10), normalize=True)\n",
    ")"
   ]
  },
  {
   "cell_type": "markdown",
   "metadata": {},
   "source": [
    "### 4.2 Load and Fit the Training Data"
   ]
  },
  {
   "cell_type": "code",
   "execution_count": null,
   "metadata": {
    "execution": {
     "iopub.execute_input": "2020-10-26T13:43:49.922553Z",
     "iopub.status.busy": "2020-10-26T13:43:49.922053Z",
     "iopub.status.idle": "2020-10-26T13:43:50.233250Z",
     "shell.execute_reply": "2020-10-26T13:43:50.233942Z"
    }
   },
   "outputs": [],
   "source": [
    "X_train, y_train = load_arrow_head(split=\"train\", return_X_y=True)\n",
    "\n",
    "# it is necessary to pass y_train to the pipeline\n",
    "# y_train is not used for the transform, but it is used by the classifier\n",
    "rocket_pipeline.fit(X_train, y_train)"
   ]
  },
  {
   "cell_type": "markdown",
   "metadata": {},
   "source": [
    "### 4.3 Load and Classify the Test Data"
   ]
  },
  {
   "cell_type": "code",
   "execution_count": null,
   "metadata": {
    "execution": {
     "iopub.execute_input": "2020-10-26T13:43:50.237787Z",
     "iopub.status.busy": "2020-10-26T13:43:50.237105Z",
     "iopub.status.idle": "2020-10-26T13:43:51.218343Z",
     "shell.execute_reply": "2020-10-26T13:43:51.218932Z"
    }
   },
   "outputs": [],
   "source": [
    "X_test, y_test = load_arrow_head(split=\"test\", return_X_y=True)\n",
    "\n",
    "rocket_pipeline.score(X_test, y_test)"
   ]
  }
 ],
 "metadata": {
  "kernelspec": {
   "display_name": "Python 3",
   "language": "python",
   "name": "python3"
  },
  "language_info": {
   "codemirror_mode": {
    "name": "ipython",
    "version": 3
   },
   "file_extension": ".py",
   "mimetype": "text/x-python",
   "name": "python",
   "nbconvert_exporter": "python",
   "pygments_lexer": "ipython3",
   "version": "3.8.6"
  }
 },
 "nbformat": 4,
 "nbformat_minor": 4
}
