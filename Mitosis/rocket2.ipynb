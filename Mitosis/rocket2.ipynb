{
 "cells": [
  {
   "cell_type": "markdown",
   "metadata": {},
   "source": [
    "# Demo of ROCKET transform\n",
    "\n",
    "## Overview\n",
    "\n",
    "ROCKET [1] transforms time series using random convolutional kernels (random length, weights, bias, dilation, and padding). ROCKET computes two features from the resulting feature maps: the max, and the proportion of positive values (or ppv). The transformed features are used to train a linear classifier.\n",
    "\n",
    "[1] Dempster A, Petitjean F, Webb GI (2019) ROCKET: Exceptionally fast and accurate time series classification using random convolutional kernels. [arXiv:1910.13051](https://arxiv.org/abs/1910.13051)\n",
    "\n",
    "***\n",
    "\n",
    "## Contents\n",
    "\n",
    "1. Imports\n",
    "2. Univariate Time Series\n",
    "3. Multivariate Time Series\n",
    "4. Pipeline Example\n",
    "\n",
    "***\n",
    "\n",
    "## 1 Imports\n",
    "\n",
    "Import example data, ROCKET, and a classifier (`RidgeClassifierCV` from scikit-learn), as well as NumPy and `make_pipeline` from scikit-learn.\n",
    "\n",
    "**Note**: ROCKET compiles (via Numba) on import, which may take a few seconds."
   ]
  },
  {
   "cell_type": "code",
   "execution_count": 1,
   "metadata": {
    "execution": {
     "iopub.execute_input": "2020-10-26T13:43:40.895607Z",
     "iopub.status.busy": "2020-10-26T13:43:40.894877Z",
     "iopub.status.idle": "2020-10-26T13:43:40.897049Z",
     "shell.execute_reply": "2020-10-26T13:43:40.897867Z"
    }
   },
   "outputs": [
    {
     "name": "stdout",
     "output_type": "stream",
     "text": [
      "Defaulting to user installation because normal site-packages is not writeable\n",
      "Requirement already satisfied: numba in c:\\users\\regotlab\\appdata\\roaming\\python\\python38\\site-packages (0.52.0)\n",
      "Requirement already satisfied: llvmlite<0.36,>=0.35.0 in c:\\users\\regotlab\\appdata\\roaming\\python\\python38\\site-packages (from numba) (0.35.0)\n",
      "Requirement already satisfied: numpy>=1.15 in c:\\users\\regotlab\\appdata\\roaming\\python\\python38\\site-packages (from numba) (1.18.5)\n",
      "Requirement already satisfied: setuptools in c:\\program files\\python38\\lib\\site-packages (from numba) (49.2.1)\n"
     ]
    },
    {
     "name": "stderr",
     "output_type": "stream",
     "text": [
      "WARNING: You are using pip version 21.0; however, version 21.0.1 is available.\n",
      "You should consider upgrading via the 'c:\\program files\\python38\\python.exe -m pip install --upgrade pip' command.\n"
     ]
    }
   ],
   "source": [
    "!pip install numba\n",
    "#!pip install --upgrade scikit-learn"
   ]
  },
  {
   "cell_type": "code",
   "execution_count": 2,
   "metadata": {
    "execution": {
     "iopub.execute_input": "2020-10-26T13:43:40.902829Z",
     "iopub.status.busy": "2020-10-26T13:43:40.902132Z",
     "iopub.status.idle": "2020-10-26T13:43:46.084612Z",
     "shell.execute_reply": "2020-10-26T13:43:46.085100Z"
    }
   },
   "outputs": [],
   "source": [
    "import numpy as np\n",
    "import sklearn\n",
    "from sklearn.linear_model import RidgeClassifierCV\n",
    "from sklearn.pipeline import make_pipeline\n",
    "\n",
    "from sktime.datasets import load_arrow_head  # univariate dataset\n",
    "from sktime.datasets.base import load_japanese_vowels  # multivariate dataset\n",
    "from sktime.transformers.series_as_features.rocket import Rocket\n",
    "from sktime.datasets.base import _load_dataset\n",
    "from sktime.utils.load_data import load_from_tsfile_to_dataframe\n",
    "import os"
   ]
  },
  {
   "cell_type": "markdown",
   "metadata": {},
   "source": [
    "## 2 Univariate Time Series\n",
    "\n",
    "We can transform the data using ROCKET and separately fit a classifier, or we can use ROCKET together with a classifier in a pipeline (section 4, below).\n",
    "\n",
    "### 2.1 Load the Training Data\n",
    "For more details on the data set, see the [univariate time series classification notebook](https://github.com/alan-turing-institute/sktime/blob/master/examples/02_classification_univariate.ipynb)."
   ]
  },
  {
   "cell_type": "code",
   "execution_count": 3,
   "metadata": {
    "execution": {
     "iopub.execute_input": "2020-10-26T13:43:46.088516Z",
     "iopub.status.busy": "2020-10-26T13:43:46.088038Z",
     "iopub.status.idle": "2020-10-26T13:43:46.097792Z",
     "shell.execute_reply": "2020-10-26T13:43:46.098291Z"
    }
   },
   "outputs": [
    {
     "name": "stdout",
     "output_type": "stream",
     "text": [
      "True\n"
     ]
    }
   ],
   "source": [
    "DATA_PATH = os.path.join(os.path.dirname(r\"Y:\\DocShare\\Bryan\\MitosisAnalysis\\\\\"))\n",
    "\n",
    "print(os.path.isfile(r\"Y:\\DocShare\\Bryan\\MitosisAnalysis\\MeanXMulti.ts\"))\n",
    "\n",
    "X_train, y_train = load_from_tsfile_to_dataframe(\n",
    "    os.path.join(DATA_PATH, \"MeanXMulti.ts\")\n",
    ")\n",
    "\n"
   ]
  },
  {
   "cell_type": "markdown",
   "metadata": {},
   "source": [
    "### 2.2 Initialise ROCKET and Transform the Training Data"
   ]
  },
  {
   "cell_type": "code",
   "execution_count": 4,
   "metadata": {
    "execution": {
     "iopub.execute_input": "2020-10-26T13:43:46.101966Z",
     "iopub.status.busy": "2020-10-26T13:43:46.101477Z",
     "iopub.status.idle": "2020-10-26T13:43:46.312016Z",
     "shell.execute_reply": "2020-10-26T13:43:46.312549Z"
    }
   },
   "outputs": [],
   "source": [
    "rocket = Rocket(num_kernels=10000)  # by default, ROCKET uses 10,000 kernels\n",
    "rocket.fit(X_train)\n",
    "X_train_transform = rocket.transform(X_train)"
   ]
  },
  {
   "cell_type": "markdown",
   "metadata": {},
   "source": [
    "### 2.3 Fit a Classifier"
   ]
  },
  {
   "cell_type": "markdown",
   "metadata": {},
   "source": [
    "We recommend using `RidgeClassifierCV` from scikit-learn for smaller datasets (fewer than approx. 20K training examples), and using logistic regression trained using stochastic gradient descent for larger datasets."
   ]
  },
  {
   "cell_type": "code",
   "execution_count": 5,
   "metadata": {
    "execution": {
     "iopub.execute_input": "2020-10-26T13:43:46.397587Z",
     "iopub.status.busy": "2020-10-26T13:43:46.349309Z",
     "iopub.status.idle": "2020-10-26T13:43:46.424781Z",
     "shell.execute_reply": "2020-10-26T13:43:46.425474Z"
    }
   },
   "outputs": [
    {
     "data": {
      "text/plain": [
       "RidgeClassifierCV(alphas=array([1.00000000e-03, 4.64158883e-03, 2.15443469e-02, 1.00000000e-01,\n",
       "       4.64158883e-01, 2.15443469e+00, 1.00000000e+01, 4.64158883e+01,\n",
       "       2.15443469e+02, 1.00000000e+03]))"
      ]
     },
     "execution_count": 5,
     "metadata": {},
     "output_type": "execute_result"
    }
   ],
   "source": [
    "classifier = RidgeClassifierCV(alphas=np.logspace(-3, 3, 10), normalize=False)\n",
    "classifier.fit(X_train_transform, y_train)"
   ]
  },
  {
   "cell_type": "markdown",
   "metadata": {},
   "source": [
    "### 2.4 Load and Transform the Test Data"
   ]
  },
  {
   "cell_type": "code",
   "execution_count": 6,
   "metadata": {
    "execution": {
     "iopub.execute_input": "2020-10-26T13:43:46.429621Z",
     "iopub.status.busy": "2020-10-26T13:43:46.428875Z",
     "iopub.status.idle": "2020-10-26T13:43:47.321078Z",
     "shell.execute_reply": "2020-10-26T13:43:47.321606Z"
    }
   },
   "outputs": [],
   "source": [
    "X_test, y_test = load_from_tsfile_to_dataframe(\n",
    "    os.path.join(DATA_PATH, \"MeanXMulti.ts\")\n",
    ")\n",
    "X_test_transform = rocket.transform(X_test)"
   ]
  },
  {
   "cell_type": "markdown",
   "metadata": {},
   "source": [
    "### 2.5 Classify the Test Data"
   ]
  },
  {
   "cell_type": "code",
   "execution_count": 7,
   "metadata": {
    "execution": {
     "iopub.execute_input": "2020-10-26T13:43:47.324938Z",
     "iopub.status.busy": "2020-10-26T13:43:47.324456Z",
     "iopub.status.idle": "2020-10-26T13:43:47.417181Z",
     "shell.execute_reply": "2020-10-26T13:43:47.417740Z"
    },
    "scrolled": true
   },
   "outputs": [
    {
     "name": "stdout",
     "output_type": "stream",
     "text": [
      "['0' '0' '0' ... '0' '0' '0']\n",
      "1.0\n",
      "Matches,total num matching\n",
      "[ True  True  True ...  True  True  True]\n",
      "1005\n",
      "Ground truth []\n",
      "My result []\n",
      "track IDs []\n",
      "134\n",
      "0\n",
      "0\n"
     ]
    }
   ],
   "source": [
    "score1 = classifier.score(X_test_transform, y_test)\n",
    "peachy = classifier.predict(X_test_transform)\n",
    "print(peachy)\n",
    "score2 = peachy==y_test\n",
    "print(score1)\n",
    "print('Matches,total num matching')\n",
    "print(score2)\n",
    "print(sum(score2))\n",
    "\n",
    "br = []\n",
    "bx = []\n",
    "bt = 0 \n",
    "fr = []\n",
    "for i in range(1005):\n",
    "    if score2[i] == False:\n",
    "        br.append(y_test[i])\n",
    "        bx.append(peachy[i])\n",
    "        fr.append(i)\n",
    "        bt = bt + y_test.astype(int)[i]\n",
    "print('Ground truth',br)\n",
    "print('My result',bx)\n",
    "print('track IDs',fr)\n",
    "q = y_test.astype(int)\n",
    "print(sum(q))\n",
    "print(len(br))\n",
    "print(bt)"
   ]
  },
  {
   "cell_type": "code",
   "execution_count": 8,
   "metadata": {},
   "outputs": [
    {
     "name": "stdout",
     "output_type": "stream",
     "text": [
      "C:\\Users\\RegotLab\\VirtualBox VMs\\LocalAnalysisC\\Yovel\\210208\\Cdc25b_Sensor_High-Resolution_Test\\Output\\Pos10Registration\\\n",
      "114\n",
      "C:\\Users\\RegotLab\\VirtualBox VMs\\LocalAnalysisC\\Yovel\\210208\\Cdc25b_Sensor_High-Resolution_Test\\Output\\Pos11Registration\\\n",
      "299\n",
      "C:\\Users\\RegotLab\\VirtualBox VMs\\LocalAnalysisC\\Yovel\\210208\\Cdc25b_Sensor_High-Resolution_Test\\Output\\Pos12Registration\\\n",
      "265\n",
      "C:\\Users\\RegotLab\\VirtualBox VMs\\LocalAnalysisC\\Yovel\\210208\\Cdc25b_Sensor_High-Resolution_Test\\Output\\Pos13Registration\\\n",
      "114\n",
      "C:\\Users\\RegotLab\\VirtualBox VMs\\LocalAnalysisC\\Yovel\\210208\\Cdc25b_Sensor_High-Resolution_Test\\Output\\Pos14Registration\\\n",
      "31\n",
      "C:\\Users\\RegotLab\\VirtualBox VMs\\LocalAnalysisC\\Yovel\\210208\\Cdc25b_Sensor_High-Resolution_Test\\Output\\Pos15Registration\\\n",
      "162\n",
      "C:\\Users\\RegotLab\\VirtualBox VMs\\LocalAnalysisC\\Yovel\\210208\\Cdc25b_Sensor_High-Resolution_Test\\Output\\Pos16Registration\\\n",
      "154\n",
      "C:\\Users\\RegotLab\\VirtualBox VMs\\LocalAnalysisC\\Yovel\\210208\\Cdc25b_Sensor_High-Resolution_Test\\Output\\Pos17Registration\\\n",
      "7\n",
      "C:\\Users\\RegotLab\\VirtualBox VMs\\LocalAnalysisC\\Yovel\\210208\\Cdc25b_Sensor_High-Resolution_Test\\Output\\Pos18Registration\\\n",
      "5\n",
      "C:\\Users\\RegotLab\\VirtualBox VMs\\LocalAnalysisC\\Yovel\\210208\\Cdc25b_Sensor_High-Resolution_Test\\Output\\Pos19Registration\\\n",
      "0\n",
      "C:\\Users\\RegotLab\\VirtualBox VMs\\LocalAnalysisC\\Yovel\\210208\\Cdc25b_Sensor_High-Resolution_Test\\Output\\Pos20Registration\\\n",
      "7\n",
      "C:\\Users\\RegotLab\\VirtualBox VMs\\LocalAnalysisC\\Yovel\\210208\\Cdc25b_Sensor_High-Resolution_Test\\Output\\Pos21Registration\\\n",
      "22\n"
     ]
    }
   ],
   "source": [
    "for i in range(10,22):\n",
    "    st1 = r\"C:\\Users\\RegotLab\\VirtualBox VMs\\LocalAnalysisC\\Yovel\\210208\\Cdc25b_Sensor_High-Resolution_Test\\Output\\Pos\"\n",
    "    st2 = st1 + str(i) + \"Registration\\\\\"\n",
    "    print(st2)\n",
    "    DATA_PATH2 = os.path.join(os.path.dirname(st2))\n",
    "    X_test, y_test = load_from_tsfile_to_dataframe(\n",
    "        os.path.join(DATA_PATH2, \"MitosisClassifier.ts\")\n",
    "    )\n",
    "    X_test_transform = rocket.transform(X_test)\n",
    "    peachy = classifier.predict(X_test_transform)\n",
    "    print(sum(peachy.astype(int)))\n",
    "    saverPath = DATA_PATH2 + \"/MitosisClassified.csv\"\n",
    "    np.savetxt(saverPath, peachy.astype('uint8'), delimiter=\",\")"
   ]
  },
  {
   "cell_type": "markdown",
   "metadata": {},
   "source": [
    "***\n",
    "\n",
    "## 3 Multivariate Time Series\n",
    "\n",
    "We can use ROCKET in exactly the same way for multivariate time series.\n",
    "\n",
    "### 3.1 Load the Training Data"
   ]
  },
  {
   "cell_type": "code",
   "execution_count": 21,
   "metadata": {
    "execution": {
     "iopub.execute_input": "2020-10-26T13:43:47.420870Z",
     "iopub.status.busy": "2020-10-26T13:43:47.420224Z",
     "iopub.status.idle": "2020-10-26T13:43:47.781032Z",
     "shell.execute_reply": "2020-10-26T13:43:47.781579Z"
    }
   },
   "outputs": [],
   "source": [
    "#X_train, y_train = load_japanese_vowels(split=\"train\", return_X_y=True)\n",
    "X_train, y_train = load_from_tsfile_to_dataframe(\n",
    "    os.path.join(DATA_PATH, \"MeanDataMulti.ts\"))"
   ]
  },
  {
   "cell_type": "markdown",
   "metadata": {},
   "source": [
    "### 3.2 Initialise ROCKET and Transform the Training Data"
   ]
  },
  {
   "cell_type": "code",
   "execution_count": 22,
   "metadata": {
    "execution": {
     "iopub.execute_input": "2020-10-26T13:43:47.798603Z",
     "iopub.status.busy": "2020-10-26T13:43:47.798104Z",
     "iopub.status.idle": "2020-10-26T13:43:48.573300Z",
     "shell.execute_reply": "2020-10-26T13:43:48.573828Z"
    }
   },
   "outputs": [],
   "source": [
    "rocket = Rocket()\n",
    "rocket.fit(X_train)\n",
    "X_train_transform = rocket.transform(X_train)"
   ]
  },
  {
   "cell_type": "markdown",
   "metadata": {},
   "source": [
    "### 3.3 Fit a Classifier"
   ]
  },
  {
   "cell_type": "code",
   "execution_count": 23,
   "metadata": {
    "execution": {
     "iopub.execute_input": "2020-10-26T13:43:48.658583Z",
     "iopub.status.busy": "2020-10-26T13:43:48.616636Z",
     "iopub.status.idle": "2020-10-26T13:43:48.775210Z",
     "shell.execute_reply": "2020-10-26T13:43:48.775906Z"
    }
   },
   "outputs": [
    {
     "data": {
      "text/plain": [
       "RidgeClassifierCV(alphas=array([1.00000000e-03, 4.64158883e-03, 2.15443469e-02, 1.00000000e-01,\n",
       "       4.64158883e-01, 2.15443469e+00, 1.00000000e+01, 4.64158883e+01,\n",
       "       2.15443469e+02, 1.00000000e+03]),\n",
       "                  normalize=True)"
      ]
     },
     "execution_count": 23,
     "metadata": {},
     "output_type": "execute_result"
    }
   ],
   "source": [
    "classifier = RidgeClassifierCV(alphas=np.logspace(-3, 3, 10), normalize=True)\n",
    "classifier.fit(X_train_transform, y_train)"
   ]
  },
  {
   "cell_type": "markdown",
   "metadata": {},
   "source": [
    "### 3.4 Load and Transform the Test Data"
   ]
  },
  {
   "cell_type": "code",
   "execution_count": 24,
   "metadata": {
    "execution": {
     "iopub.execute_input": "2020-10-26T13:43:48.779695Z",
     "iopub.status.busy": "2020-10-26T13:43:48.779013Z",
     "iopub.status.idle": "2020-10-26T13:43:49.819108Z",
     "shell.execute_reply": "2020-10-26T13:43:49.819624Z"
    }
   },
   "outputs": [],
   "source": [
    "#X_test, y_test = load_japanese_vowels(split=\"test\", return_X_y=True)\n",
    "X_test, y_test = load_from_tsfile_to_dataframe(\n",
    "    os.path.join(DATA_PATH, \"MeanDataMulti.ts\")\n",
    ")\n",
    "X_test_transform = rocket.transform(X_test)"
   ]
  },
  {
   "cell_type": "markdown",
   "metadata": {},
   "source": [
    "### 3.5 Classify the Test Data"
   ]
  },
  {
   "cell_type": "code",
   "execution_count": 25,
   "metadata": {
    "execution": {
     "iopub.execute_input": "2020-10-26T13:43:49.870201Z",
     "iopub.status.busy": "2020-10-26T13:43:49.822353Z",
     "iopub.status.idle": "2020-10-26T13:43:49.913680Z",
     "shell.execute_reply": "2020-10-26T13:43:49.914242Z"
    },
    "scrolled": true
   },
   "outputs": [
    {
     "data": {
      "text/plain": [
       "0.9932236205227493"
      ]
     },
     "execution_count": 25,
     "metadata": {},
     "output_type": "execute_result"
    }
   ],
   "source": [
    "classifier.score(X_test_transform, y_test)"
   ]
  },
  {
   "cell_type": "markdown",
   "metadata": {},
   "source": [
    "***\n",
    "\n",
    "## 4 Pipeline Example\n",
    "\n",
    "We can use ROCKET together with `RidgeClassifierCV` (or another classifier) in a pipeline.  We can then use the pipeline like a self-contained classifier, with a single call to `fit`, and without having to separately transform the data, etc.\n",
    "\n",
    "### 4.1 Initialise the Pipeline"
   ]
  },
  {
   "cell_type": "code",
   "execution_count": null,
   "metadata": {
    "execution": {
     "iopub.execute_input": "2020-10-26T13:43:49.917738Z",
     "iopub.status.busy": "2020-10-26T13:43:49.917215Z",
     "iopub.status.idle": "2020-10-26T13:43:49.919010Z",
     "shell.execute_reply": "2020-10-26T13:43:49.919565Z"
    }
   },
   "outputs": [],
   "source": [
    "rocket_pipeline = make_pipeline(\n",
    "    Rocket(), RidgeClassifierCV(alphas=np.logspace(-3, 3, 10), normalize=True)\n",
    ")"
   ]
  },
  {
   "cell_type": "markdown",
   "metadata": {},
   "source": [
    "### 4.2 Load and Fit the Training Data"
   ]
  },
  {
   "cell_type": "code",
   "execution_count": null,
   "metadata": {
    "execution": {
     "iopub.execute_input": "2020-10-26T13:43:49.922553Z",
     "iopub.status.busy": "2020-10-26T13:43:49.922053Z",
     "iopub.status.idle": "2020-10-26T13:43:50.233250Z",
     "shell.execute_reply": "2020-10-26T13:43:50.233942Z"
    }
   },
   "outputs": [],
   "source": [
    "X_train, y_train = load_arrow_head(split=\"train\", return_X_y=True)\n",
    "\n",
    "# it is necessary to pass y_train to the pipeline\n",
    "# y_train is not used for the transform, but it is used by the classifier\n",
    "rocket_pipeline.fit(X_train, y_train)"
   ]
  },
  {
   "cell_type": "markdown",
   "metadata": {},
   "source": [
    "### 4.3 Load and Classify the Test Data"
   ]
  },
  {
   "cell_type": "code",
   "execution_count": null,
   "metadata": {
    "execution": {
     "iopub.execute_input": "2020-10-26T13:43:50.237787Z",
     "iopub.status.busy": "2020-10-26T13:43:50.237105Z",
     "iopub.status.idle": "2020-10-26T13:43:51.218343Z",
     "shell.execute_reply": "2020-10-26T13:43:51.218932Z"
    }
   },
   "outputs": [],
   "source": [
    "X_test, y_test = load_arrow_head(split=\"test\", return_X_y=True)\n",
    "\n",
    "rocket_pipeline.score(X_test, y_test)"
   ]
  }
 ],
 "metadata": {
  "kernelspec": {
   "display_name": "Python 3",
   "language": "python",
   "name": "python3"
  },
  "language_info": {
   "codemirror_mode": {
    "name": "ipython",
    "version": 3
   },
   "file_extension": ".py",
   "mimetype": "text/x-python",
   "name": "python",
   "nbconvert_exporter": "python",
   "pygments_lexer": "ipython3",
   "version": "3.8.6"
  }
 },
 "nbformat": 4,
 "nbformat_minor": 4
}
